{
  "cells": [
    {
      "cell_type": "markdown",
      "metadata": {
        "id": "IE1jPhK-VY2I"
      },
      "source": [
        "# **Summary**\n",
        "\n",
        "In this research project, the primary goal was to construct a predictive algorithm aimed at determining the likelihood of an individual experiencing a stroke. The central inquiry revolved around identifying the most effective model for this prediction task. The selection process involved a strategic approach employing two distinct models: decision trees and linear regression. Initially, categorical variables were carefully chosen and subjected to one-hot encoding. A classification tree was then employed to delineate the points of divergence or splits in the data. Notably, the tree, characterized by a depth of 3, notably highlighted crucial variables such as ever_married, work_status, Residence_type, and smoking_status as pivotal factors in predicting stroke likelihood.\n",
        "\n",
        "Following this, a linear regression analysis was conducted. The model was built using the categorical variables transformed into dummy variables and the numerical variables represented as polynomials up to a degree of 2. Despite the careful methodology and consideration of various variables, the resultant model only yielded an $R^2$ value of 0.083 and an associated $RMSE$ of 0.206.\n",
        "\n",
        "These findings fell significantly short of expectations, especially considering the anticipation of a more promising outcome given the chosen strategy. The actual versus predicted plot unveiled substantial deviations between the predicted probabilities of stroke occurrence and the real observed incidences. Additionally, the examination of residual distributions further underscored the model's limitations. The residuals, indicative of the differences between predicted and observed values, exhibited a distribution pattern that deviated significantly from the expected normality. Ultimately, the model's predictive performance, as gauged by the $RMSE$, did not surpass that of a simple linear model, marking a disappointing outcome.\n"
      ]
    },
    {
      "cell_type": "code",
      "execution_count": 1,
      "metadata": {
        "id": "4jem3t6d_PF8"
      },
      "outputs": [],
      "source": [
        "import pandas as pd\n",
        "import numpy as np\n",
        "import seaborn as sns\n",
        "import matplotlib.pyplot as plt"
      ]
    },
    {
      "cell_type": "code",
      "execution_count": 3,
      "metadata": {
        "id": "wbyJmHH2_oT4"
      },
      "outputs": [],
      "source": [
        "df_train = pd.read_csv(r'C:\\Users\\qaism\\OneDrive - University of Virginia\\Documents\\Class Documents\\DS 3001\\group14\\project_2\\data\\training_data.csv')\n",
        "df_test = pd.read_csv(r'C:\\Users\\qaism\\OneDrive - University of Virginia\\Documents\\Class Documents\\DS 3001\\group14\\project_2\\data\\testing_data.csv')\n"
      ]
    },
    {
      "cell_type": "markdown",
      "metadata": {
        "id": "buyHiBlJ_tIh"
      },
      "source": [
        "# Approach/Strategy\n",
        "\n",
        "I am going to begin with the categorical variables and run a decision tree on them to see what variables the tree is splitting on. I will then run a linear regression with the numerical variables, including the categorical variables that the tree indicated were predictive."
      ]
    },
    {
      "cell_type": "markdown",
      "metadata": {
        "id": "sC8TNdKBGHHS"
      },
      "source": [
        "1. One-hot encode the categorical variables"
      ]
    },
    {
      "cell_type": "code",
      "execution_count": 4,
      "metadata": {
        "id": "w2AeEj--ASRR"
      },
      "outputs": [],
      "source": [
        "y_train = df_train['stroke']\n",
        "X_train = df_train.drop('stroke',axis=1)\n",
        "y_test = df_test['stroke']\n",
        "X_test = df_test.drop('stroke',axis=1)\n",
        "\n",
        "X_train['bmi'] = X_train['bmi'].fillna(X_train['bmi'].mean())\n",
        "X_test['bmi'] = X_test['bmi'].fillna(X_test['bmi'].mean())"
      ]
    },
    {
      "cell_type": "code",
      "execution_count": 5,
      "metadata": {
        "id": "f4anzHlWAZlX"
      },
      "outputs": [],
      "source": [
        "#Get the categorical variables\n",
        "X_train_categ = X_train.loc[:,['ever_married','gender','Residence_type','smoking_status','work_type'] ]\n",
        "X_test_categ = X_test.loc[:,['ever_married','gender','Residence_type','smoking_status','work_type'] ]"
      ]
    },
    {
      "cell_type": "code",
      "execution_count": 6,
      "metadata": {
        "id": "5T0mWhpVA31q"
      },
      "outputs": [],
      "source": [
        "#One-hot encoding for categorical variables\n",
        "from sklearn.preprocessing import LabelBinarizer\n",
        "one_hot_encoder = LabelBinarizer()"
      ]
    },
    {
      "cell_type": "code",
      "execution_count": 7,
      "metadata": {
        "colab": {
          "base_uri": "https://localhost:8080/",
          "height": 206
        },
        "id": "I24eNkWnCEnZ",
        "outputId": "a4e69215-c1e1-439e-f885-9318a96b80b1"
      },
      "outputs": [
        {
          "data": {
            "text/html": [
              "<div>\n",
              "<style scoped>\n",
              "    .dataframe tbody tr th:only-of-type {\n",
              "        vertical-align: middle;\n",
              "    }\n",
              "\n",
              "    .dataframe tbody tr th {\n",
              "        vertical-align: top;\n",
              "    }\n",
              "\n",
              "    .dataframe thead th {\n",
              "        text-align: right;\n",
              "    }\n",
              "</style>\n",
              "<table border=\"1\" class=\"dataframe\">\n",
              "  <thead>\n",
              "    <tr style=\"text-align: right;\">\n",
              "      <th></th>\n",
              "      <th>ever_married_Yes</th>\n",
              "      <th>ever_married_No</th>\n",
              "    </tr>\n",
              "  </thead>\n",
              "  <tbody>\n",
              "    <tr>\n",
              "      <th>0</th>\n",
              "      <td>0</td>\n",
              "      <td>1</td>\n",
              "    </tr>\n",
              "    <tr>\n",
              "      <th>1</th>\n",
              "      <td>0</td>\n",
              "      <td>1</td>\n",
              "    </tr>\n",
              "    <tr>\n",
              "      <th>2</th>\n",
              "      <td>1</td>\n",
              "      <td>0</td>\n",
              "    </tr>\n",
              "    <tr>\n",
              "      <th>3</th>\n",
              "      <td>0</td>\n",
              "      <td>1</td>\n",
              "    </tr>\n",
              "    <tr>\n",
              "      <th>4</th>\n",
              "      <td>1</td>\n",
              "      <td>0</td>\n",
              "    </tr>\n",
              "  </tbody>\n",
              "</table>\n",
              "</div>"
            ],
            "text/plain": [
              "   ever_married_Yes  ever_married_No\n",
              "0                 0                1\n",
              "1                 0                1\n",
              "2                 1                0\n",
              "3                 0                1\n",
              "4                 1                0"
            ]
          },
          "execution_count": 7,
          "metadata": {},
          "output_type": "execute_result"
        }
      ],
      "source": [
        "Married_train = pd.get_dummies(X_train_categ['ever_married'], dtype='int')\n",
        "MarriedDF_train = Married_train.rename(columns={'No': 'ever_married_Yes', 'Yes': 'ever_married_No'})\n",
        "MarriedDF_train.head()"
      ]
    },
    {
      "cell_type": "code",
      "execution_count": 8,
      "metadata": {
        "colab": {
          "base_uri": "https://localhost:8080/",
          "height": 206
        },
        "id": "91e-wfkREJ1A",
        "outputId": "68f03456-5c00-4437-be5b-deb10c3f80f9"
      },
      "outputs": [
        {
          "data": {
            "text/html": [
              "<div>\n",
              "<style scoped>\n",
              "    .dataframe tbody tr th:only-of-type {\n",
              "        vertical-align: middle;\n",
              "    }\n",
              "\n",
              "    .dataframe tbody tr th {\n",
              "        vertical-align: top;\n",
              "    }\n",
              "\n",
              "    .dataframe thead th {\n",
              "        text-align: right;\n",
              "    }\n",
              "</style>\n",
              "<table border=\"1\" class=\"dataframe\">\n",
              "  <thead>\n",
              "    <tr style=\"text-align: right;\">\n",
              "      <th></th>\n",
              "      <th>ever_married_Yes</th>\n",
              "      <th>ever_married_No</th>\n",
              "    </tr>\n",
              "  </thead>\n",
              "  <tbody>\n",
              "    <tr>\n",
              "      <th>0</th>\n",
              "      <td>0</td>\n",
              "      <td>1</td>\n",
              "    </tr>\n",
              "    <tr>\n",
              "      <th>1</th>\n",
              "      <td>1</td>\n",
              "      <td>0</td>\n",
              "    </tr>\n",
              "    <tr>\n",
              "      <th>2</th>\n",
              "      <td>0</td>\n",
              "      <td>1</td>\n",
              "    </tr>\n",
              "    <tr>\n",
              "      <th>3</th>\n",
              "      <td>0</td>\n",
              "      <td>1</td>\n",
              "    </tr>\n",
              "    <tr>\n",
              "      <th>4</th>\n",
              "      <td>0</td>\n",
              "      <td>1</td>\n",
              "    </tr>\n",
              "  </tbody>\n",
              "</table>\n",
              "</div>"
            ],
            "text/plain": [
              "   ever_married_Yes  ever_married_No\n",
              "0                 0                1\n",
              "1                 1                0\n",
              "2                 0                1\n",
              "3                 0                1\n",
              "4                 0                1"
            ]
          },
          "execution_count": 8,
          "metadata": {},
          "output_type": "execute_result"
        }
      ],
      "source": [
        "Married_test = pd.get_dummies(X_test_categ['ever_married'], dtype='int')\n",
        "MarriedDF_test = Married_test.rename(columns={'No': 'ever_married_Yes', 'Yes': 'ever_married_No'})\n",
        "MarriedDF_test.head()"
      ]
    },
    {
      "cell_type": "code",
      "execution_count": 9,
      "metadata": {
        "colab": {
          "base_uri": "https://localhost:8080/",
          "height": 206
        },
        "id": "_T8QA-YhCVPR",
        "outputId": "d9a7567b-2648-4bf5-f2d9-386c628dd0a8"
      },
      "outputs": [
        {
          "data": {
            "text/html": [
              "<div>\n",
              "<style scoped>\n",
              "    .dataframe tbody tr th:only-of-type {\n",
              "        vertical-align: middle;\n",
              "    }\n",
              "\n",
              "    .dataframe tbody tr th {\n",
              "        vertical-align: top;\n",
              "    }\n",
              "\n",
              "    .dataframe thead th {\n",
              "        text-align: right;\n",
              "    }\n",
              "</style>\n",
              "<table border=\"1\" class=\"dataframe\">\n",
              "  <thead>\n",
              "    <tr style=\"text-align: right;\">\n",
              "      <th></th>\n",
              "      <th>Female</th>\n",
              "      <th>Male</th>\n",
              "      <th>Other</th>\n",
              "    </tr>\n",
              "  </thead>\n",
              "  <tbody>\n",
              "    <tr>\n",
              "      <th>0</th>\n",
              "      <td>0</td>\n",
              "      <td>1</td>\n",
              "      <td>0</td>\n",
              "    </tr>\n",
              "    <tr>\n",
              "      <th>1</th>\n",
              "      <td>1</td>\n",
              "      <td>0</td>\n",
              "      <td>0</td>\n",
              "    </tr>\n",
              "    <tr>\n",
              "      <th>2</th>\n",
              "      <td>0</td>\n",
              "      <td>1</td>\n",
              "      <td>0</td>\n",
              "    </tr>\n",
              "    <tr>\n",
              "      <th>3</th>\n",
              "      <td>1</td>\n",
              "      <td>0</td>\n",
              "      <td>0</td>\n",
              "    </tr>\n",
              "    <tr>\n",
              "      <th>4</th>\n",
              "      <td>1</td>\n",
              "      <td>0</td>\n",
              "      <td>0</td>\n",
              "    </tr>\n",
              "  </tbody>\n",
              "</table>\n",
              "</div>"
            ],
            "text/plain": [
              "   Female  Male  Other\n",
              "0       0     1      0\n",
              "1       1     0      0\n",
              "2       0     1      0\n",
              "3       1     0      0\n",
              "4       1     0      0"
            ]
          },
          "execution_count": 9,
          "metadata": {},
          "output_type": "execute_result"
        }
      ],
      "source": [
        "GenderDF_train = pd.get_dummies(X_train_categ['gender'], dtype='int')\n",
        "GenderDF_train.head()"
      ]
    },
    {
      "cell_type": "code",
      "execution_count": 11,
      "metadata": {},
      "outputs": [
        {
          "data": {
            "text/html": [
              "<div>\n",
              "<style scoped>\n",
              "    .dataframe tbody tr th:only-of-type {\n",
              "        vertical-align: middle;\n",
              "    }\n",
              "\n",
              "    .dataframe tbody tr th {\n",
              "        vertical-align: top;\n",
              "    }\n",
              "\n",
              "    .dataframe thead th {\n",
              "        text-align: right;\n",
              "    }\n",
              "</style>\n",
              "<table border=\"1\" class=\"dataframe\">\n",
              "  <thead>\n",
              "    <tr style=\"text-align: right;\">\n",
              "      <th></th>\n",
              "      <th>Female</th>\n",
              "      <th>Male</th>\n",
              "    </tr>\n",
              "  </thead>\n",
              "  <tbody>\n",
              "    <tr>\n",
              "      <th>0</th>\n",
              "      <td>0</td>\n",
              "      <td>1</td>\n",
              "    </tr>\n",
              "    <tr>\n",
              "      <th>1</th>\n",
              "      <td>1</td>\n",
              "      <td>0</td>\n",
              "    </tr>\n",
              "    <tr>\n",
              "      <th>2</th>\n",
              "      <td>1</td>\n",
              "      <td>0</td>\n",
              "    </tr>\n",
              "    <tr>\n",
              "      <th>3</th>\n",
              "      <td>1</td>\n",
              "      <td>0</td>\n",
              "    </tr>\n",
              "    <tr>\n",
              "      <th>4</th>\n",
              "      <td>1</td>\n",
              "      <td>0</td>\n",
              "    </tr>\n",
              "  </tbody>\n",
              "</table>\n",
              "</div>"
            ],
            "text/plain": [
              "   Female  Male\n",
              "0       0     1\n",
              "1       1     0\n",
              "2       1     0\n",
              "3       1     0\n",
              "4       1     0"
            ]
          },
          "execution_count": 11,
          "metadata": {},
          "output_type": "execute_result"
        }
      ],
      "source": [
        "GenderDF_test = pd.get_dummies(X_test_categ['gender'], dtype='int')\n",
        "\n",
        "# Check if 'Other' column exists before dropping it\n",
        "if 'Other' in GenderDF_test.columns:\n",
        "    GenderDF_test.drop(columns='Other', inplace=True)\n",
        "\n",
        "GenderDF_test.head()"
      ]
    },
    {
      "cell_type": "code",
      "execution_count": 14,
      "metadata": {
        "colab": {
          "base_uri": "https://localhost:8080/",
          "height": 206
        },
        "id": "L5_freF0DJ7k",
        "outputId": "ad0eb7a4-e88b-4138-d677-fdb18ea9ef52"
      },
      "outputs": [
        {
          "data": {
            "text/html": [
              "<div>\n",
              "<style scoped>\n",
              "    .dataframe tbody tr th:only-of-type {\n",
              "        vertical-align: middle;\n",
              "    }\n",
              "\n",
              "    .dataframe tbody tr th {\n",
              "        vertical-align: top;\n",
              "    }\n",
              "\n",
              "    .dataframe thead th {\n",
              "        text-align: right;\n",
              "    }\n",
              "</style>\n",
              "<table border=\"1\" class=\"dataframe\">\n",
              "  <thead>\n",
              "    <tr style=\"text-align: right;\">\n",
              "      <th></th>\n",
              "      <th>Rural</th>\n",
              "      <th>Urban</th>\n",
              "    </tr>\n",
              "  </thead>\n",
              "  <tbody>\n",
              "    <tr>\n",
              "      <th>0</th>\n",
              "      <td>0</td>\n",
              "      <td>1</td>\n",
              "    </tr>\n",
              "    <tr>\n",
              "      <th>1</th>\n",
              "      <td>1</td>\n",
              "      <td>0</td>\n",
              "    </tr>\n",
              "    <tr>\n",
              "      <th>2</th>\n",
              "      <td>1</td>\n",
              "      <td>0</td>\n",
              "    </tr>\n",
              "    <tr>\n",
              "      <th>3</th>\n",
              "      <td>0</td>\n",
              "      <td>1</td>\n",
              "    </tr>\n",
              "    <tr>\n",
              "      <th>4</th>\n",
              "      <td>0</td>\n",
              "      <td>1</td>\n",
              "    </tr>\n",
              "  </tbody>\n",
              "</table>\n",
              "</div>"
            ],
            "text/plain": [
              "   Rural  Urban\n",
              "0      0      1\n",
              "1      1      0\n",
              "2      1      0\n",
              "3      0      1\n",
              "4      0      1"
            ]
          },
          "execution_count": 14,
          "metadata": {},
          "output_type": "execute_result"
        }
      ],
      "source": [
        "ResidenceDF_train = pd.get_dummies(X_train_categ['Residence_type'], dtype='int')\n",
        "ResidenceDF_train.head()"
      ]
    },
    {
      "cell_type": "code",
      "execution_count": 15,
      "metadata": {
        "colab": {
          "base_uri": "https://localhost:8080/",
          "height": 206
        },
        "id": "2XMFSbZ9EiS9",
        "outputId": "494b29a0-6029-45bb-8d0d-b338f88a00a9"
      },
      "outputs": [
        {
          "data": {
            "text/html": [
              "<div>\n",
              "<style scoped>\n",
              "    .dataframe tbody tr th:only-of-type {\n",
              "        vertical-align: middle;\n",
              "    }\n",
              "\n",
              "    .dataframe tbody tr th {\n",
              "        vertical-align: top;\n",
              "    }\n",
              "\n",
              "    .dataframe thead th {\n",
              "        text-align: right;\n",
              "    }\n",
              "</style>\n",
              "<table border=\"1\" class=\"dataframe\">\n",
              "  <thead>\n",
              "    <tr style=\"text-align: right;\">\n",
              "      <th></th>\n",
              "      <th>Rural</th>\n",
              "      <th>Urban</th>\n",
              "    </tr>\n",
              "  </thead>\n",
              "  <tbody>\n",
              "    <tr>\n",
              "      <th>0</th>\n",
              "      <td>0</td>\n",
              "      <td>1</td>\n",
              "    </tr>\n",
              "    <tr>\n",
              "      <th>1</th>\n",
              "      <td>0</td>\n",
              "      <td>1</td>\n",
              "    </tr>\n",
              "    <tr>\n",
              "      <th>2</th>\n",
              "      <td>1</td>\n",
              "      <td>0</td>\n",
              "    </tr>\n",
              "    <tr>\n",
              "      <th>3</th>\n",
              "      <td>0</td>\n",
              "      <td>1</td>\n",
              "    </tr>\n",
              "    <tr>\n",
              "      <th>4</th>\n",
              "      <td>0</td>\n",
              "      <td>1</td>\n",
              "    </tr>\n",
              "  </tbody>\n",
              "</table>\n",
              "</div>"
            ],
            "text/plain": [
              "   Rural  Urban\n",
              "0      0      1\n",
              "1      0      1\n",
              "2      1      0\n",
              "3      0      1\n",
              "4      0      1"
            ]
          },
          "execution_count": 15,
          "metadata": {},
          "output_type": "execute_result"
        }
      ],
      "source": [
        "ResidenceDF_test = pd.get_dummies(X_test_categ['Residence_type'], dtype='int')\n",
        "ResidenceDF_test.head()"
      ]
    },
    {
      "cell_type": "code",
      "execution_count": 16,
      "metadata": {
        "colab": {
          "base_uri": "https://localhost:8080/",
          "height": 206
        },
        "id": "SNxEmdMkDa_m",
        "outputId": "2ed3de35-2af1-46aa-abbd-bd00c51d7f9a"
      },
      "outputs": [
        {
          "data": {
            "text/html": [
              "<div>\n",
              "<style scoped>\n",
              "    .dataframe tbody tr th:only-of-type {\n",
              "        vertical-align: middle;\n",
              "    }\n",
              "\n",
              "    .dataframe tbody tr th {\n",
              "        vertical-align: top;\n",
              "    }\n",
              "\n",
              "    .dataframe thead th {\n",
              "        text-align: right;\n",
              "    }\n",
              "</style>\n",
              "<table border=\"1\" class=\"dataframe\">\n",
              "  <thead>\n",
              "    <tr style=\"text-align: right;\">\n",
              "      <th></th>\n",
              "      <th>formerly smoked</th>\n",
              "      <th>never smoked</th>\n",
              "      <th>smokes</th>\n",
              "    </tr>\n",
              "  </thead>\n",
              "  <tbody>\n",
              "    <tr>\n",
              "      <th>0</th>\n",
              "      <td>1</td>\n",
              "      <td>0</td>\n",
              "      <td>0</td>\n",
              "    </tr>\n",
              "    <tr>\n",
              "      <th>1</th>\n",
              "      <td>0</td>\n",
              "      <td>1</td>\n",
              "      <td>0</td>\n",
              "    </tr>\n",
              "    <tr>\n",
              "      <th>2</th>\n",
              "      <td>0</td>\n",
              "      <td>0</td>\n",
              "      <td>0</td>\n",
              "    </tr>\n",
              "    <tr>\n",
              "      <th>3</th>\n",
              "      <td>0</td>\n",
              "      <td>1</td>\n",
              "      <td>0</td>\n",
              "    </tr>\n",
              "    <tr>\n",
              "      <th>4</th>\n",
              "      <td>0</td>\n",
              "      <td>0</td>\n",
              "      <td>0</td>\n",
              "    </tr>\n",
              "  </tbody>\n",
              "</table>\n",
              "</div>"
            ],
            "text/plain": [
              "   formerly smoked  never smoked  smokes\n",
              "0                1             0       0\n",
              "1                0             1       0\n",
              "2                0             0       0\n",
              "3                0             1       0\n",
              "4                0             0       0"
            ]
          },
          "execution_count": 16,
          "metadata": {},
          "output_type": "execute_result"
        }
      ],
      "source": [
        "Smoking_train = pd.get_dummies(X_train_categ['smoking_status'],dtype='int')\n",
        "oh = one_hot_encoder.fit_transform(X_train_categ['smoking_status']) # One-hot encode the 'bird' variable\n",
        "names = one_hot_encoder.classes_ # Get names of the classes\n",
        "SmokingDF_train = pd.DataFrame( data = oh, columns = names) # Create a new df for the encoded variables\n",
        "SmokingDF_train.drop(columns='Unknown', inplace=True)\n",
        "SmokingDF_train.head()"
      ]
    },
    {
      "cell_type": "code",
      "execution_count": 17,
      "metadata": {
        "colab": {
          "base_uri": "https://localhost:8080/",
          "height": 206
        },
        "id": "SvR9evUZEs60",
        "outputId": "343f304f-7a7d-4dc5-9e16-940dc2db258b"
      },
      "outputs": [
        {
          "data": {
            "text/html": [
              "<div>\n",
              "<style scoped>\n",
              "    .dataframe tbody tr th:only-of-type {\n",
              "        vertical-align: middle;\n",
              "    }\n",
              "\n",
              "    .dataframe tbody tr th {\n",
              "        vertical-align: top;\n",
              "    }\n",
              "\n",
              "    .dataframe thead th {\n",
              "        text-align: right;\n",
              "    }\n",
              "</style>\n",
              "<table border=\"1\" class=\"dataframe\">\n",
              "  <thead>\n",
              "    <tr style=\"text-align: right;\">\n",
              "      <th></th>\n",
              "      <th>formerly smoked</th>\n",
              "      <th>never smoked</th>\n",
              "      <th>smokes</th>\n",
              "    </tr>\n",
              "  </thead>\n",
              "  <tbody>\n",
              "    <tr>\n",
              "      <th>0</th>\n",
              "      <td>0</td>\n",
              "      <td>1</td>\n",
              "      <td>0</td>\n",
              "    </tr>\n",
              "    <tr>\n",
              "      <th>1</th>\n",
              "      <td>0</td>\n",
              "      <td>0</td>\n",
              "      <td>0</td>\n",
              "    </tr>\n",
              "    <tr>\n",
              "      <th>2</th>\n",
              "      <td>1</td>\n",
              "      <td>0</td>\n",
              "      <td>0</td>\n",
              "    </tr>\n",
              "    <tr>\n",
              "      <th>3</th>\n",
              "      <td>0</td>\n",
              "      <td>0</td>\n",
              "      <td>0</td>\n",
              "    </tr>\n",
              "    <tr>\n",
              "      <th>4</th>\n",
              "      <td>0</td>\n",
              "      <td>1</td>\n",
              "      <td>0</td>\n",
              "    </tr>\n",
              "  </tbody>\n",
              "</table>\n",
              "</div>"
            ],
            "text/plain": [
              "   formerly smoked  never smoked  smokes\n",
              "0                0             1       0\n",
              "1                0             0       0\n",
              "2                1             0       0\n",
              "3                0             0       0\n",
              "4                0             1       0"
            ]
          },
          "execution_count": 17,
          "metadata": {},
          "output_type": "execute_result"
        }
      ],
      "source": [
        "Smoking_test = pd.get_dummies(X_test_categ['smoking_status'],dtype='int')\n",
        "oh = one_hot_encoder.fit_transform(X_test_categ['smoking_status']) # One-hot encode the 'bird' variable\n",
        "names = one_hot_encoder.classes_ # Get names of the classes\n",
        "SmokingDF_test = pd.DataFrame( data = oh, columns = names) # Create a new df for the encoded variables\n",
        "SmokingDF_test.drop(columns='Unknown', inplace=True)\n",
        "SmokingDF_test.head()"
      ]
    },
    {
      "cell_type": "code",
      "execution_count": 18,
      "metadata": {
        "colab": {
          "base_uri": "https://localhost:8080/",
          "height": 206
        },
        "id": "_uRB5DbUD273",
        "outputId": "ea11e665-b712-4a18-ad5c-4317b4ecae57"
      },
      "outputs": [
        {
          "data": {
            "text/html": [
              "<div>\n",
              "<style scoped>\n",
              "    .dataframe tbody tr th:only-of-type {\n",
              "        vertical-align: middle;\n",
              "    }\n",
              "\n",
              "    .dataframe tbody tr th {\n",
              "        vertical-align: top;\n",
              "    }\n",
              "\n",
              "    .dataframe thead th {\n",
              "        text-align: right;\n",
              "    }\n",
              "</style>\n",
              "<table border=\"1\" class=\"dataframe\">\n",
              "  <thead>\n",
              "    <tr style=\"text-align: right;\">\n",
              "      <th></th>\n",
              "      <th>Govt_job</th>\n",
              "      <th>Never_worked</th>\n",
              "      <th>Private</th>\n",
              "      <th>Self-employed</th>\n",
              "      <th>children</th>\n",
              "    </tr>\n",
              "  </thead>\n",
              "  <tbody>\n",
              "    <tr>\n",
              "      <th>0</th>\n",
              "      <td>1</td>\n",
              "      <td>0</td>\n",
              "      <td>0</td>\n",
              "      <td>0</td>\n",
              "      <td>0</td>\n",
              "    </tr>\n",
              "    <tr>\n",
              "      <th>1</th>\n",
              "      <td>1</td>\n",
              "      <td>0</td>\n",
              "      <td>0</td>\n",
              "      <td>0</td>\n",
              "      <td>0</td>\n",
              "    </tr>\n",
              "    <tr>\n",
              "      <th>2</th>\n",
              "      <td>0</td>\n",
              "      <td>0</td>\n",
              "      <td>0</td>\n",
              "      <td>1</td>\n",
              "      <td>0</td>\n",
              "    </tr>\n",
              "    <tr>\n",
              "      <th>3</th>\n",
              "      <td>0</td>\n",
              "      <td>0</td>\n",
              "      <td>0</td>\n",
              "      <td>1</td>\n",
              "      <td>0</td>\n",
              "    </tr>\n",
              "    <tr>\n",
              "      <th>4</th>\n",
              "      <td>0</td>\n",
              "      <td>0</td>\n",
              "      <td>1</td>\n",
              "      <td>0</td>\n",
              "      <td>0</td>\n",
              "    </tr>\n",
              "  </tbody>\n",
              "</table>\n",
              "</div>"
            ],
            "text/plain": [
              "   Govt_job  Never_worked  Private  Self-employed  children\n",
              "0         1             0        0              0         0\n",
              "1         1             0        0              0         0\n",
              "2         0             0        0              1         0\n",
              "3         0             0        0              1         0\n",
              "4         0             0        1              0         0"
            ]
          },
          "execution_count": 18,
          "metadata": {},
          "output_type": "execute_result"
        }
      ],
      "source": [
        "Work_train = pd.get_dummies(X_train_categ['work_type'],dtype='int')\n",
        "oh = one_hot_encoder.fit_transform(X_train_categ['work_type']) # One-hot encode the 'bird' variable\n",
        "names = one_hot_encoder.classes_ # Get names of the classes\n",
        "WorkDF_train = pd.DataFrame( data = oh, columns = names) # Create a new df for the encoded variables\n",
        "WorkDF_train.head()"
      ]
    },
    {
      "cell_type": "code",
      "execution_count": 19,
      "metadata": {
        "colab": {
          "base_uri": "https://localhost:8080/",
          "height": 206
        },
        "id": "mTkUS42kECGk",
        "outputId": "23501518-653c-4bfb-9cd8-3b3d25f5918c"
      },
      "outputs": [
        {
          "data": {
            "text/html": [
              "<div>\n",
              "<style scoped>\n",
              "    .dataframe tbody tr th:only-of-type {\n",
              "        vertical-align: middle;\n",
              "    }\n",
              "\n",
              "    .dataframe tbody tr th {\n",
              "        vertical-align: top;\n",
              "    }\n",
              "\n",
              "    .dataframe thead th {\n",
              "        text-align: right;\n",
              "    }\n",
              "</style>\n",
              "<table border=\"1\" class=\"dataframe\">\n",
              "  <thead>\n",
              "    <tr style=\"text-align: right;\">\n",
              "      <th></th>\n",
              "      <th>Govt_job</th>\n",
              "      <th>Never_worked</th>\n",
              "      <th>Private</th>\n",
              "      <th>Self-employed</th>\n",
              "      <th>children</th>\n",
              "    </tr>\n",
              "  </thead>\n",
              "  <tbody>\n",
              "    <tr>\n",
              "      <th>0</th>\n",
              "      <td>0</td>\n",
              "      <td>0</td>\n",
              "      <td>1</td>\n",
              "      <td>0</td>\n",
              "      <td>0</td>\n",
              "    </tr>\n",
              "    <tr>\n",
              "      <th>1</th>\n",
              "      <td>0</td>\n",
              "      <td>0</td>\n",
              "      <td>1</td>\n",
              "      <td>0</td>\n",
              "      <td>0</td>\n",
              "    </tr>\n",
              "    <tr>\n",
              "      <th>2</th>\n",
              "      <td>0</td>\n",
              "      <td>0</td>\n",
              "      <td>1</td>\n",
              "      <td>0</td>\n",
              "      <td>0</td>\n",
              "    </tr>\n",
              "    <tr>\n",
              "      <th>3</th>\n",
              "      <td>0</td>\n",
              "      <td>0</td>\n",
              "      <td>1</td>\n",
              "      <td>0</td>\n",
              "      <td>0</td>\n",
              "    </tr>\n",
              "    <tr>\n",
              "      <th>4</th>\n",
              "      <td>0</td>\n",
              "      <td>0</td>\n",
              "      <td>0</td>\n",
              "      <td>1</td>\n",
              "      <td>0</td>\n",
              "    </tr>\n",
              "  </tbody>\n",
              "</table>\n",
              "</div>"
            ],
            "text/plain": [
              "   Govt_job  Never_worked  Private  Self-employed  children\n",
              "0         0             0        1              0         0\n",
              "1         0             0        1              0         0\n",
              "2         0             0        1              0         0\n",
              "3         0             0        1              0         0\n",
              "4         0             0        0              1         0"
            ]
          },
          "execution_count": 19,
          "metadata": {},
          "output_type": "execute_result"
        }
      ],
      "source": [
        "Work_test = pd.get_dummies(X_test_categ['work_type'],dtype='int')\n",
        "oh = one_hot_encoder.fit_transform(X_test_categ['work_type']) # One-hot encode the 'bird' variable\n",
        "names = one_hot_encoder.classes_ # Get names of the classes\n",
        "WorkDF_test = pd.DataFrame( data = oh, columns = names) # Create a new df for the encoded variables\n",
        "WorkDF_test.head()"
      ]
    },
    {
      "cell_type": "code",
      "execution_count": 20,
      "metadata": {
        "colab": {
          "base_uri": "https://localhost:8080/",
          "height": 244
        },
        "id": "6DvNXQ7kFDur",
        "outputId": "de2cb10c-4163-45f4-bd57-e7ceccf9b72c"
      },
      "outputs": [
        {
          "data": {
            "text/html": [
              "<div>\n",
              "<style scoped>\n",
              "    .dataframe tbody tr th:only-of-type {\n",
              "        vertical-align: middle;\n",
              "    }\n",
              "\n",
              "    .dataframe tbody tr th {\n",
              "        vertical-align: top;\n",
              "    }\n",
              "\n",
              "    .dataframe thead th {\n",
              "        text-align: right;\n",
              "    }\n",
              "</style>\n",
              "<table border=\"1\" class=\"dataframe\">\n",
              "  <thead>\n",
              "    <tr style=\"text-align: right;\">\n",
              "      <th></th>\n",
              "      <th>ever_married_Yes</th>\n",
              "      <th>ever_married_No</th>\n",
              "      <th>Female</th>\n",
              "      <th>Male</th>\n",
              "      <th>Other</th>\n",
              "      <th>Rural</th>\n",
              "      <th>Urban</th>\n",
              "      <th>formerly smoked</th>\n",
              "      <th>never smoked</th>\n",
              "      <th>smokes</th>\n",
              "      <th>Govt_job</th>\n",
              "      <th>Never_worked</th>\n",
              "      <th>Private</th>\n",
              "      <th>Self-employed</th>\n",
              "      <th>children</th>\n",
              "    </tr>\n",
              "  </thead>\n",
              "  <tbody>\n",
              "    <tr>\n",
              "      <th>0</th>\n",
              "      <td>0</td>\n",
              "      <td>1</td>\n",
              "      <td>0</td>\n",
              "      <td>1</td>\n",
              "      <td>0</td>\n",
              "      <td>0</td>\n",
              "      <td>1</td>\n",
              "      <td>1</td>\n",
              "      <td>0</td>\n",
              "      <td>0</td>\n",
              "      <td>1</td>\n",
              "      <td>0</td>\n",
              "      <td>0</td>\n",
              "      <td>0</td>\n",
              "      <td>0</td>\n",
              "    </tr>\n",
              "    <tr>\n",
              "      <th>1</th>\n",
              "      <td>0</td>\n",
              "      <td>1</td>\n",
              "      <td>1</td>\n",
              "      <td>0</td>\n",
              "      <td>0</td>\n",
              "      <td>1</td>\n",
              "      <td>0</td>\n",
              "      <td>0</td>\n",
              "      <td>1</td>\n",
              "      <td>0</td>\n",
              "      <td>1</td>\n",
              "      <td>0</td>\n",
              "      <td>0</td>\n",
              "      <td>0</td>\n",
              "      <td>0</td>\n",
              "    </tr>\n",
              "    <tr>\n",
              "      <th>2</th>\n",
              "      <td>1</td>\n",
              "      <td>0</td>\n",
              "      <td>0</td>\n",
              "      <td>1</td>\n",
              "      <td>0</td>\n",
              "      <td>1</td>\n",
              "      <td>0</td>\n",
              "      <td>0</td>\n",
              "      <td>0</td>\n",
              "      <td>0</td>\n",
              "      <td>0</td>\n",
              "      <td>0</td>\n",
              "      <td>0</td>\n",
              "      <td>1</td>\n",
              "      <td>0</td>\n",
              "    </tr>\n",
              "    <tr>\n",
              "      <th>3</th>\n",
              "      <td>0</td>\n",
              "      <td>1</td>\n",
              "      <td>1</td>\n",
              "      <td>0</td>\n",
              "      <td>0</td>\n",
              "      <td>0</td>\n",
              "      <td>1</td>\n",
              "      <td>0</td>\n",
              "      <td>1</td>\n",
              "      <td>0</td>\n",
              "      <td>0</td>\n",
              "      <td>0</td>\n",
              "      <td>0</td>\n",
              "      <td>1</td>\n",
              "      <td>0</td>\n",
              "    </tr>\n",
              "    <tr>\n",
              "      <th>4</th>\n",
              "      <td>1</td>\n",
              "      <td>0</td>\n",
              "      <td>1</td>\n",
              "      <td>0</td>\n",
              "      <td>0</td>\n",
              "      <td>0</td>\n",
              "      <td>1</td>\n",
              "      <td>0</td>\n",
              "      <td>0</td>\n",
              "      <td>0</td>\n",
              "      <td>0</td>\n",
              "      <td>0</td>\n",
              "      <td>1</td>\n",
              "      <td>0</td>\n",
              "      <td>0</td>\n",
              "    </tr>\n",
              "  </tbody>\n",
              "</table>\n",
              "</div>"
            ],
            "text/plain": [
              "   ever_married_Yes  ever_married_No  Female  Male  Other  Rural  Urban  \\\n",
              "0                 0                1       0     1      0      0      1   \n",
              "1                 0                1       1     0      0      1      0   \n",
              "2                 1                0       0     1      0      1      0   \n",
              "3                 0                1       1     0      0      0      1   \n",
              "4                 1                0       1     0      0      0      1   \n",
              "\n",
              "   formerly smoked  never smoked  smokes  Govt_job  Never_worked  Private  \\\n",
              "0                1             0       0         1             0        0   \n",
              "1                0             1       0         1             0        0   \n",
              "2                0             0       0         0             0        0   \n",
              "3                0             1       0         0             0        0   \n",
              "4                0             0       0         0             0        1   \n",
              "\n",
              "   Self-employed  children  \n",
              "0              0         0  \n",
              "1              0         0  \n",
              "2              1         0  \n",
              "3              1         0  \n",
              "4              0         0  "
            ]
          },
          "execution_count": 20,
          "metadata": {},
          "output_type": "execute_result"
        }
      ],
      "source": [
        "X_train_categ_oh = pd.concat([MarriedDF_train,GenderDF_train,ResidenceDF_train, SmokingDF_train, WorkDF_train],axis=1)\n",
        "X_train_categ_oh.head()"
      ]
    },
    {
      "cell_type": "code",
      "execution_count": 21,
      "metadata": {
        "colab": {
          "base_uri": "https://localhost:8080/",
          "height": 244
        },
        "id": "EUUmrREVFeel",
        "outputId": "593454be-574d-4067-883d-cb65bad18b94"
      },
      "outputs": [
        {
          "data": {
            "text/html": [
              "<div>\n",
              "<style scoped>\n",
              "    .dataframe tbody tr th:only-of-type {\n",
              "        vertical-align: middle;\n",
              "    }\n",
              "\n",
              "    .dataframe tbody tr th {\n",
              "        vertical-align: top;\n",
              "    }\n",
              "\n",
              "    .dataframe thead th {\n",
              "        text-align: right;\n",
              "    }\n",
              "</style>\n",
              "<table border=\"1\" class=\"dataframe\">\n",
              "  <thead>\n",
              "    <tr style=\"text-align: right;\">\n",
              "      <th></th>\n",
              "      <th>ever_married_Yes</th>\n",
              "      <th>ever_married_No</th>\n",
              "      <th>Female</th>\n",
              "      <th>Male</th>\n",
              "      <th>Rural</th>\n",
              "      <th>Urban</th>\n",
              "      <th>formerly smoked</th>\n",
              "      <th>never smoked</th>\n",
              "      <th>smokes</th>\n",
              "      <th>Govt_job</th>\n",
              "      <th>Never_worked</th>\n",
              "      <th>Private</th>\n",
              "      <th>Self-employed</th>\n",
              "      <th>children</th>\n",
              "    </tr>\n",
              "  </thead>\n",
              "  <tbody>\n",
              "    <tr>\n",
              "      <th>0</th>\n",
              "      <td>0</td>\n",
              "      <td>1</td>\n",
              "      <td>0</td>\n",
              "      <td>1</td>\n",
              "      <td>0</td>\n",
              "      <td>1</td>\n",
              "      <td>0</td>\n",
              "      <td>1</td>\n",
              "      <td>0</td>\n",
              "      <td>0</td>\n",
              "      <td>0</td>\n",
              "      <td>1</td>\n",
              "      <td>0</td>\n",
              "      <td>0</td>\n",
              "    </tr>\n",
              "    <tr>\n",
              "      <th>1</th>\n",
              "      <td>1</td>\n",
              "      <td>0</td>\n",
              "      <td>1</td>\n",
              "      <td>0</td>\n",
              "      <td>0</td>\n",
              "      <td>1</td>\n",
              "      <td>0</td>\n",
              "      <td>0</td>\n",
              "      <td>0</td>\n",
              "      <td>0</td>\n",
              "      <td>0</td>\n",
              "      <td>1</td>\n",
              "      <td>0</td>\n",
              "      <td>0</td>\n",
              "    </tr>\n",
              "    <tr>\n",
              "      <th>2</th>\n",
              "      <td>0</td>\n",
              "      <td>1</td>\n",
              "      <td>1</td>\n",
              "      <td>0</td>\n",
              "      <td>1</td>\n",
              "      <td>0</td>\n",
              "      <td>1</td>\n",
              "      <td>0</td>\n",
              "      <td>0</td>\n",
              "      <td>0</td>\n",
              "      <td>0</td>\n",
              "      <td>1</td>\n",
              "      <td>0</td>\n",
              "      <td>0</td>\n",
              "    </tr>\n",
              "    <tr>\n",
              "      <th>3</th>\n",
              "      <td>0</td>\n",
              "      <td>1</td>\n",
              "      <td>1</td>\n",
              "      <td>0</td>\n",
              "      <td>0</td>\n",
              "      <td>1</td>\n",
              "      <td>0</td>\n",
              "      <td>0</td>\n",
              "      <td>0</td>\n",
              "      <td>0</td>\n",
              "      <td>0</td>\n",
              "      <td>1</td>\n",
              "      <td>0</td>\n",
              "      <td>0</td>\n",
              "    </tr>\n",
              "    <tr>\n",
              "      <th>4</th>\n",
              "      <td>0</td>\n",
              "      <td>1</td>\n",
              "      <td>1</td>\n",
              "      <td>0</td>\n",
              "      <td>0</td>\n",
              "      <td>1</td>\n",
              "      <td>0</td>\n",
              "      <td>1</td>\n",
              "      <td>0</td>\n",
              "      <td>0</td>\n",
              "      <td>0</td>\n",
              "      <td>0</td>\n",
              "      <td>1</td>\n",
              "      <td>0</td>\n",
              "    </tr>\n",
              "  </tbody>\n",
              "</table>\n",
              "</div>"
            ],
            "text/plain": [
              "   ever_married_Yes  ever_married_No  Female  Male  Rural  Urban  \\\n",
              "0                 0                1       0     1      0      1   \n",
              "1                 1                0       1     0      0      1   \n",
              "2                 0                1       1     0      1      0   \n",
              "3                 0                1       1     0      0      1   \n",
              "4                 0                1       1     0      0      1   \n",
              "\n",
              "   formerly smoked  never smoked  smokes  Govt_job  Never_worked  Private  \\\n",
              "0                0             1       0         0             0        1   \n",
              "1                0             0       0         0             0        1   \n",
              "2                1             0       0         0             0        1   \n",
              "3                0             0       0         0             0        1   \n",
              "4                0             1       0         0             0        0   \n",
              "\n",
              "   Self-employed  children  \n",
              "0              0         0  \n",
              "1              0         0  \n",
              "2              0         0  \n",
              "3              0         0  \n",
              "4              1         0  "
            ]
          },
          "execution_count": 21,
          "metadata": {},
          "output_type": "execute_result"
        }
      ],
      "source": [
        "X_test_categ_oh = pd.concat([MarriedDF_test,GenderDF_test,ResidenceDF_test, SmokingDF_test, WorkDF_test],axis=1)\n",
        "X_test_categ_oh.head()"
      ]
    },
    {
      "cell_type": "markdown",
      "metadata": {
        "id": "keEBC1BPGGMj"
      },
      "source": [
        "2. Fit the decision tree with a max depth of 2"
      ]
    },
    {
      "cell_type": "code",
      "execution_count": 22,
      "metadata": {
        "colab": {
          "base_uri": "https://localhost:8080/"
        },
        "id": "rWByk9RcHnps",
        "outputId": "dbcf926c-4022-41de-a3e2-d4355450f3d7"
      },
      "outputs": [
        {
          "data": {
            "text/plain": [
              "Index(['ever_married_Yes', 'ever_married_No', 'Female', 'Male', 'Other',\n",
              "       'Rural', 'Urban', 'formerly smoked', 'never smoked', 'smokes',\n",
              "       'Govt_job', 'Never_worked', 'Private', 'Self-employed', 'children'],\n",
              "      dtype='object')"
            ]
          },
          "execution_count": 22,
          "metadata": {},
          "output_type": "execute_result"
        }
      ],
      "source": [
        "X_train_categ_oh.columns"
      ]
    },
    {
      "cell_type": "code",
      "execution_count": 23,
      "metadata": {
        "colab": {
          "base_uri": "https://localhost:8080/",
          "height": 674
        },
        "id": "wNlB0IN0GDDH",
        "outputId": "3dd4da82-0b82-401e-f375-2342a515fbef"
      },
      "outputs": [
        {
          "data": {
            "text/plain": [
              "[Text(0.5, 0.875, 'x[0] <= 0.5\\ngini = 0.093\\nsamples = 4087\\nvalue = [3888, 199]'),\n",
              " Text(0.25, 0.625, 'x[7] <= 0.5\\ngini = 0.12\\nsamples = 2686\\nvalue = [2514, 172]'),\n",
              " Text(0.125, 0.375, 'x[13] <= 0.5\\ngini = 0.107\\nsamples = 2110\\nvalue = [1990, 120]'),\n",
              " Text(0.0625, 0.125, 'gini = 0.102\\nsamples = 1678\\nvalue = [1588, 90]'),\n",
              " Text(0.1875, 0.125, 'gini = 0.129\\nsamples = 432\\nvalue = [402, 30]'),\n",
              " Text(0.375, 0.375, 'x[10] <= 0.5\\ngini = 0.164\\nsamples = 576\\nvalue = [524, 52]'),\n",
              " Text(0.3125, 0.125, 'gini = 0.179\\nsamples = 484\\nvalue = [436, 48]'),\n",
              " Text(0.4375, 0.125, 'gini = 0.083\\nsamples = 92\\nvalue = [88, 4]'),\n",
              " Text(0.75, 0.625, 'x[14] <= 0.5\\ngini = 0.038\\nsamples = 1401\\nvalue = [1374, 27]'),\n",
              " Text(0.625, 0.375, 'x[12] <= 0.5\\ngini = 0.057\\nsamples = 859\\nvalue = [834, 25]'),\n",
              " Text(0.5625, 0.125, 'gini = 0.113\\nsamples = 200\\nvalue = [188, 12]'),\n",
              " Text(0.6875, 0.125, 'gini = 0.039\\nsamples = 659\\nvalue = [646, 13]'),\n",
              " Text(0.875, 0.375, 'x[3] <= 0.5\\ngini = 0.007\\nsamples = 542\\nvalue = [540, 2]'),\n",
              " Text(0.8125, 0.125, 'gini = 0.016\\nsamples = 251\\nvalue = [249, 2]'),\n",
              " Text(0.9375, 0.125, 'gini = 0.0\\nsamples = 291\\nvalue = [291, 0]')]"
            ]
          },
          "execution_count": 23,
          "metadata": {},
          "output_type": "execute_result"
        },
        {
          "data": {
            "image/png": "[encoded data removed]",
            "text/plain": [
              "<Figure size 640x480 with 1 Axes>"
            ]
          },
          "metadata": {},
          "output_type": "display_data"
        }
      ],
      "source": [
        "from sklearn import tree # Import the tree classifier\n",
        "\n",
        "# Fit decision tree:\n",
        "cart = tree.DecisionTreeClassifier(max_depth=3) # Create a classifier object\n",
        "cart = cart.fit(X_train_categ_oh, y_train) # Fit the classifier\n",
        "\n",
        "# Visualize results:\n",
        "tree.plot_tree(cart,filled=True)"
      ]
    },
    {
      "cell_type": "markdown",
      "metadata": {
        "id": "DlnLbjHPLPx-"
      },
      "source": [
        "The decision tree is splitting on marriage, work, and residence type and smoking status. So I will include those in the linear regression below."
      ]
    },
    {
      "cell_type": "code",
      "execution_count": 25,
      "metadata": {},
      "outputs": [],
      "source": [
        "# One-hot encoding with 'Other' category included\n",
        "GenderDF_train = pd.get_dummies(X_train_categ['gender'], dtype='int', columns=['Female', 'Male', 'Other'])\n",
        "GenderDF_test = pd.get_dummies(X_test_categ['gender'], dtype='int', columns=['Female', 'Male', 'Other'])\n",
        "\n",
        "# Align the columns in training and testing datasets\n",
        "common_cols = GenderDF_train.columns.intersection(GenderDF_test.columns)\n",
        "GenderDF_train = GenderDF_train[common_cols].copy()\n",
        "GenderDF_test = GenderDF_test[common_cols].copy()\n",
        "\n",
        "# Add missing columns with zeros if any\n",
        "missing_cols_train = set(GenderDF_test.columns) - set(GenderDF_train.columns)\n",
        "missing_cols_test = set(GenderDF_train.columns) - set(GenderDF_test.columns)\n",
        "\n",
        "for col in missing_cols_train:\n",
        "    GenderDF_train[col] = 0\n",
        "\n",
        "for col in missing_cols_test:\n",
        "    GenderDF_test[col] = 0\n",
        "\n",
        "# Ensure the order of columns is the same\n",
        "GenderDF_train = GenderDF_train[sorted(GenderDF_train.columns)]\n",
        "GenderDF_test = GenderDF_test[sorted(GenderDF_test.columns)]"
      ]
    },
    {
      "cell_type": "code",
      "execution_count": 27,
      "metadata": {},
      "outputs": [
        {
          "name": "stdout",
          "output_type": "stream",
          "text": [
            "R2:  0.9511241446725318\n"
          ]
        }
      ],
      "source": [
        "\n",
        "# Get the list of columns in the training data\n",
        "train_cols = X_train_categ_oh.columns\n",
        "\n",
        "# Reindex the testing data with the same columns, filling missing values with 0\n",
        "X_test_categ_oh = X_test_categ_oh.reindex(columns=train_cols, fill_value=0)\n",
        "\n",
        "# Now your features in training and testing data should match\n",
        "# You can now safely use the 'score' method\n",
        "print('R2: ', cart.score(X_test_categ_oh, y_test))"
      ]
    },
    {
      "cell_type": "code",
      "execution_count": 28,
      "metadata": {
        "colab": {
          "base_uri": "https://localhost:8080/"
        },
        "id": "NUaAlvUoIhq4",
        "outputId": "504ff046-e150-45c3-d800-23dfb933aeb4"
      },
      "outputs": [
        {
          "name": "stdout",
          "output_type": "stream",
          "text": [
            "R2:  0.9511241446725318\n",
            "RMSE:  0.22107884414269094\n"
          ]
        }
      ],
      "source": [
        "#Checking current metrics\n",
        "print('R2: ', cart.score(X_test_categ_oh, y_test)) # R squared measure\n",
        "tree_predictions = cart.predict(X_test_categ_oh)\n",
        "N = len(y_test)\n",
        "print('RMSE: ', (np.sum( (y_test - tree_predictions)**2)/N )**.5 )   # R squared measure"
      ]
    },
    {
      "cell_type": "markdown",
      "metadata": {
        "id": "KojFnvDOKM6Z"
      },
      "source": [
        "3. Run the linear regression with numeric variables and include the categorical variables that the tree splits on"
      ]
    },
    {
      "cell_type": "markdown",
      "metadata": {
        "id": "tcF4dMwtPjqi"
      },
      "source": [
        "Handling outliers in the numeric variables:"
      ]
    },
    {
      "cell_type": "code",
      "execution_count": 29,
      "metadata": {
        "id": "QhaaNjeQPiyp"
      },
      "outputs": [],
      "source": [
        "X_train_numeric = X_train.loc[:,['age','hypertension','heart_disease','bmi','avg_glucose_level'] ]\n",
        "X_test_numeric = X_test.loc[:,['age','hypertension','heart_disease','bmi','avg_glucose_level'] ]"
      ]
    },
    {
      "cell_type": "code",
      "execution_count": 30,
      "metadata": {
        "colab": {
          "base_uri": "https://localhost:8080/",
          "height": 448
        },
        "id": "OIUZy0d4P1u4",
        "outputId": "5bece83c-1105-4305-a07d-2264f6a124b8"
      },
      "outputs": [
        {
          "data": {
            "text/plain": [
              "<Axes: >"
            ]
          },
          "execution_count": 30,
          "metadata": {},
          "output_type": "execute_result"
        },
        {
          "data": {
            "image/png": "[encoded data removed]",
            "text/plain": [
              "<Figure size 640x480 with 1 Axes>"
            ]
          },
          "metadata": {},
          "output_type": "display_data"
        }
      ],
      "source": [
        "sns.boxplot(X_train_numeric)"
      ]
    },
    {
      "cell_type": "code",
      "execution_count": 31,
      "metadata": {
        "colab": {
          "base_uri": "https://localhost:8080/",
          "height": 448
        },
        "id": "Rg3RtNiEP4s5",
        "outputId": "59a6570e-2063-4402-fe15-4ea9fe09b700"
      },
      "outputs": [
        {
          "data": {
            "text/plain": [
              "<Axes: >"
            ]
          },
          "execution_count": 31,
          "metadata": {},
          "output_type": "execute_result"
        },
        {
          "data": {
            "image/png": "[encoded data removed]",
            "text/plain": [
              "<Figure size 640x480 with 1 Axes>"
            ]
          },
          "metadata": {},
          "output_type": "display_data"
        }
      ],
      "source": [
        "sns.boxplot(X_test_numeric)"
      ]
    },
    {
      "cell_type": "code",
      "execution_count": 32,
      "metadata": {
        "id": "C5yLMTaHP6jZ"
      },
      "outputs": [],
      "source": [
        "## Function to compute whiskers:\n",
        "def windsorize(x):\n",
        "    # Compute IQR and 1st,3rd quantiles\n",
        "    pct25, pct75 = np.percentile(x,[25,75])\n",
        "    iqr = pct75 - pct25\n",
        "    # Compute whiskers:\n",
        "    lower_whisker = pct25 - iqr*1.5\n",
        "    upper_whisker = pct75 + iqr*1.5\n",
        "    # Windsorize x:\n",
        "    x_windsor = x\n",
        "    x_windsor[ x < lower_whisker ] = lower_whisker\n",
        "    x_windsor[ x > upper_whisker ] = upper_whisker\n",
        "    return(x_windsor)"
      ]
    },
    {
      "cell_type": "code",
      "execution_count": 33,
      "metadata": {
        "colab": {
          "base_uri": "https://localhost:8080/",
          "height": 424
        },
        "id": "cg5U5AhOP8Gr",
        "outputId": "2a62170a-db30-4ec0-ac05-f023c4c3804b"
      },
      "outputs": [
        {
          "data": {
            "text/html": [
              "<div>\n",
              "<style scoped>\n",
              "    .dataframe tbody tr th:only-of-type {\n",
              "        vertical-align: middle;\n",
              "    }\n",
              "\n",
              "    .dataframe tbody tr th {\n",
              "        vertical-align: top;\n",
              "    }\n",
              "\n",
              "    .dataframe thead th {\n",
              "        text-align: right;\n",
              "    }\n",
              "</style>\n",
              "<table border=\"1\" class=\"dataframe\">\n",
              "  <thead>\n",
              "    <tr style=\"text-align: right;\">\n",
              "      <th></th>\n",
              "      <th>age</th>\n",
              "      <th>hypertension</th>\n",
              "      <th>heart_disease</th>\n",
              "      <th>bmi</th>\n",
              "      <th>avg_glucose_level</th>\n",
              "    </tr>\n",
              "  </thead>\n",
              "  <tbody>\n",
              "    <tr>\n",
              "      <th>0</th>\n",
              "      <td>58.0</td>\n",
              "      <td>0</td>\n",
              "      <td>0</td>\n",
              "      <td>39.200000</td>\n",
              "      <td>87.960</td>\n",
              "    </tr>\n",
              "    <tr>\n",
              "      <th>1</th>\n",
              "      <td>8.0</td>\n",
              "      <td>0</td>\n",
              "      <td>0</td>\n",
              "      <td>17.600000</td>\n",
              "      <td>110.890</td>\n",
              "    </tr>\n",
              "    <tr>\n",
              "      <th>2</th>\n",
              "      <td>70.0</td>\n",
              "      <td>0</td>\n",
              "      <td>0</td>\n",
              "      <td>35.900000</td>\n",
              "      <td>69.040</td>\n",
              "    </tr>\n",
              "    <tr>\n",
              "      <th>3</th>\n",
              "      <td>47.0</td>\n",
              "      <td>0</td>\n",
              "      <td>0</td>\n",
              "      <td>46.575000</td>\n",
              "      <td>172.225</td>\n",
              "    </tr>\n",
              "    <tr>\n",
              "      <th>4</th>\n",
              "      <td>74.0</td>\n",
              "      <td>0</td>\n",
              "      <td>0</td>\n",
              "      <td>46.575000</td>\n",
              "      <td>172.225</td>\n",
              "    </tr>\n",
              "    <tr>\n",
              "      <th>...</th>\n",
              "      <td>...</td>\n",
              "      <td>...</td>\n",
              "      <td>...</td>\n",
              "      <td>...</td>\n",
              "      <td>...</td>\n",
              "    </tr>\n",
              "    <tr>\n",
              "      <th>1018</th>\n",
              "      <td>74.0</td>\n",
              "      <td>0</td>\n",
              "      <td>0</td>\n",
              "      <td>28.772579</td>\n",
              "      <td>60.980</td>\n",
              "    </tr>\n",
              "    <tr>\n",
              "      <th>1019</th>\n",
              "      <td>73.0</td>\n",
              "      <td>0</td>\n",
              "      <td>0</td>\n",
              "      <td>34.400000</td>\n",
              "      <td>70.940</td>\n",
              "    </tr>\n",
              "    <tr>\n",
              "      <th>1020</th>\n",
              "      <td>57.0</td>\n",
              "      <td>0</td>\n",
              "      <td>0</td>\n",
              "      <td>31.700000</td>\n",
              "      <td>86.300</td>\n",
              "    </tr>\n",
              "    <tr>\n",
              "      <th>1021</th>\n",
              "      <td>75.0</td>\n",
              "      <td>0</td>\n",
              "      <td>0</td>\n",
              "      <td>29.300000</td>\n",
              "      <td>78.800</td>\n",
              "    </tr>\n",
              "    <tr>\n",
              "      <th>1022</th>\n",
              "      <td>71.0</td>\n",
              "      <td>0</td>\n",
              "      <td>0</td>\n",
              "      <td>28.772579</td>\n",
              "      <td>87.800</td>\n",
              "    </tr>\n",
              "  </tbody>\n",
              "</table>\n",
              "<p>1023 rows × 5 columns</p>\n",
              "</div>"
            ],
            "text/plain": [
              "       age  hypertension  heart_disease        bmi  avg_glucose_level\n",
              "0     58.0             0              0  39.200000             87.960\n",
              "1      8.0             0              0  17.600000            110.890\n",
              "2     70.0             0              0  35.900000             69.040\n",
              "3     47.0             0              0  46.575000            172.225\n",
              "4     74.0             0              0  46.575000            172.225\n",
              "...    ...           ...            ...        ...                ...\n",
              "1018  74.0             0              0  28.772579             60.980\n",
              "1019  73.0             0              0  34.400000             70.940\n",
              "1020  57.0             0              0  31.700000             86.300\n",
              "1021  75.0             0              0  29.300000             78.800\n",
              "1022  71.0             0              0  28.772579             87.800\n",
              "\n",
              "[1023 rows x 5 columns]"
            ]
          },
          "execution_count": 33,
          "metadata": {},
          "output_type": "execute_result"
        }
      ],
      "source": [
        "X_train_numeric.apply(windsorize)\n",
        "X_test_numeric.apply(windsorize)"
      ]
    },
    {
      "cell_type": "code",
      "execution_count": 34,
      "metadata": {
        "colab": {
          "base_uri": "https://localhost:8080/",
          "height": 448
        },
        "id": "XD4u2dM0P_ji",
        "outputId": "06c45ba1-fd1f-46dd-95ad-5c0ea8534f29"
      },
      "outputs": [
        {
          "data": {
            "text/plain": [
              "<Axes: >"
            ]
          },
          "execution_count": 34,
          "metadata": {},
          "output_type": "execute_result"
        },
        {
          "data": {
            "image/png": "[encoded data removed]",
            "text/plain": [
              "<Figure size 640x480 with 1 Axes>"
            ]
          },
          "metadata": {},
          "output_type": "display_data"
        }
      ],
      "source": [
        "sns.boxplot(X_train_numeric)"
      ]
    },
    {
      "cell_type": "code",
      "execution_count": 35,
      "metadata": {
        "colab": {
          "base_uri": "https://localhost:8080/",
          "height": 449
        },
        "id": "Ro0Uo8yjQBpE",
        "outputId": "46da3c10-15a4-49d0-db2d-213f987690f8"
      },
      "outputs": [
        {
          "data": {
            "text/plain": [
              "<Axes: >"
            ]
          },
          "execution_count": 35,
          "metadata": {},
          "output_type": "execute_result"
        },
        {
          "data": {
            "image/png": "[encoded data removed]",
            "text/plain": [
              "<Figure size 640x480 with 1 Axes>"
            ]
          },
          "metadata": {},
          "output_type": "display_data"
        }
      ],
      "source": [
        "sns.boxplot(X_test_numeric)"
      ]
    },
    {
      "cell_type": "code",
      "execution_count": 36,
      "metadata": {
        "colab": {
          "base_uri": "https://localhost:8080/"
        },
        "id": "f8Phwab-NCaV",
        "outputId": "9c0cbc4a-c218-4756-e198-fc1b9a00acfb"
      },
      "outputs": [
        {
          "name": "stdout",
          "output_type": "stream",
          "text": [
            "R2:  0.08802240592465616\n",
            "RMSE:  0.20590072358516537\n"
          ]
        }
      ],
      "source": [
        "## Linear Model\n",
        "from sklearn.linear_model import LinearRegression # Import linear regression model\n",
        "from sklearn.preprocessing import PolynomialFeatures\n",
        "\n",
        "\n",
        "expander = PolynomialFeatures(degree=2,include_bias=False) # Create the expander\n",
        "Z = expander.fit_transform(X_train_numeric) # Pass the df into the expander to get powers/interactions of x and y\n",
        "names = expander.get_feature_names_out() # Get the names of these variables\n",
        "continuous = pd.DataFrame(data=Z, columns = names) # Create a new, expanded dataframe\n",
        "\n",
        "dummies = pd.concat([ pd.get_dummies(X_train['work_type'],dtype='int',drop_first=True),\n",
        "                      pd.get_dummies(X_train['Residence_type'],dtype='int',drop_first=True),\n",
        "                      pd.get_dummies(X_train['smoking_status'],dtype='int',drop_first=True),\n",
        "                      MarriedDF_train],axis=1)\n",
        "\n",
        "Z_train = pd.concat([continuous,dummies],axis=1)\n",
        "\n",
        "\n",
        "expander = PolynomialFeatures(degree=2,include_bias=False) # Create the expander\n",
        "Z = expander.fit_transform(X_test_numeric) # Pass the df into the expander to get powers/interactions of x and y\n",
        "names = expander.get_feature_names_out() # Get the names of these variables\n",
        "continuous = pd.DataFrame(data=Z, columns = names) # Create a new, expanded dataframe\n",
        "\n",
        "dummies = pd.concat([ pd.get_dummies(X_test['work_type'],dtype='int',drop_first=True),\n",
        "                      pd.get_dummies(X_test['Residence_type'],dtype='int',drop_first=True),\n",
        "                      pd.get_dummies(X_test['smoking_status'],dtype='int',drop_first=True),\n",
        "                      MarriedDF_test],axis=1)\n",
        "\n",
        "Z_test = pd.concat([continuous,dummies],axis=1)\n",
        "\n",
        "# Fit the model and get the R2 measure:\n",
        "reg = LinearRegression().fit(Z_train, y_train) # Fit the linear model\n",
        "print('R2: ', reg.score(Z_test, y_test)) # R squared measure\n",
        "y_hat = reg.predict(Z_test)\n",
        "N = len(y_test)\n",
        "print('RMSE: ', (np.sum( (y_test - y_hat)**2)/N )**.5 )   # R squared measure"
      ]
    },
    {
      "cell_type": "markdown",
      "metadata": {
        "id": "tatiYopMO7Jf"
      },
      "source": [
        "4. Plot and visualize results"
      ]
    },
    {
      "cell_type": "code",
      "execution_count": 37,
      "metadata": {
        "colab": {
          "base_uri": "https://localhost:8080/",
          "height": 472
        },
        "id": "PRJJeVrrO_M3",
        "outputId": "fc668196-20d3-4b4a-87d7-fadeeef464a3"
      },
      "outputs": [
        {
          "data": {
            "image/png": "[encoded data removed]",
            "text/plain": [
              "<Figure size 640x480 with 1 Axes>"
            ]
          },
          "metadata": {},
          "output_type": "display_data"
        }
      ],
      "source": [
        "#Plot test against predicted values\n",
        "plt.scatter(y_test, y_hat, color='blue')\n",
        "plt.xlabel('Actual Values')\n",
        "plt.ylabel('Predicted Values')\n",
        "plt.title('Actual vs. Predicted Values')\n",
        "plt.show()"
      ]
    },
    {
      "cell_type": "code",
      "execution_count": 38,
      "metadata": {
        "colab": {
          "base_uri": "https://localhost:8080/",
          "height": 472
        },
        "id": "TNn-k4dTPF6v",
        "outputId": "467136d2-ae1a-4b79-9e26-8fb456bfd860"
      },
      "outputs": [
        {
          "data": {
            "image/png": "[encoded data removed]",
            "text/plain": [
              "<Figure size 640x480 with 1 Axes>"
            ]
          },
          "metadata": {},
          "output_type": "display_data"
        }
      ],
      "source": [
        "# Compute residuals\n",
        "residuals = y_test - y_hat\n",
        "\n",
        "sns.histplot(residuals, kde=True, color='skyblue')\n",
        "plt.title('Residuals Distribution')\n",
        "plt.xlabel('Residuals')\n",
        "plt.ylabel('Density')\n",
        "plt.show()"
      ]
    },
    {
      "cell_type": "code",
      "execution_count": 39,
      "metadata": {},
      "outputs": [
        {
          "name": "stdout",
          "output_type": "stream",
          "text": [
            "Confusion Matrix:\n",
            " [[973   0]\n",
            " [ 50   0]]\n",
            "\n",
            "Classification Report:\n",
            "               precision    recall  f1-score   support\n",
            "\n",
            "           0       0.95      1.00      0.97       973\n",
            "           1       0.00      0.00      0.00        50\n",
            "\n",
            "    accuracy                           0.95      1023\n",
            "   macro avg       0.48      0.50      0.49      1023\n",
            "weighted avg       0.90      0.95      0.93      1023\n",
            "\n"
          ]
        },
        {
          "name": "stderr",
          "output_type": "stream",
          "text": [
            "c:\\Python311-32\\Lib\\site-packages\\sklearn\\metrics\\_classification.py:1469: UndefinedMetricWarning: Precision and F-score are ill-defined and being set to 0.0 in labels with no predicted samples. Use `zero_division` parameter to control this behavior.\n",
            "  _warn_prf(average, modifier, msg_start, len(result))\n",
            "c:\\Python311-32\\Lib\\site-packages\\sklearn\\metrics\\_classification.py:1469: UndefinedMetricWarning: Precision and F-score are ill-defined and being set to 0.0 in labels with no predicted samples. Use `zero_division` parameter to control this behavior.\n",
            "  _warn_prf(average, modifier, msg_start, len(result))\n",
            "c:\\Python311-32\\Lib\\site-packages\\sklearn\\metrics\\_classification.py:1469: UndefinedMetricWarning: Precision and F-score are ill-defined and being set to 0.0 in labels with no predicted samples. Use `zero_division` parameter to control this behavior.\n",
            "  _warn_prf(average, modifier, msg_start, len(result))\n"
          ]
        }
      ],
      "source": [
        "from sklearn.metrics import confusion_matrix, classification_report\n",
        "\n",
        "# Predictions from your model\n",
        "y_pred = cart.predict(X_test_categ_oh)\n",
        "\n",
        "# Confusion Matrix\n",
        "conf_matrix = confusion_matrix(y_test, y_pred)\n",
        "print(\"Confusion Matrix:\\n\", conf_matrix)\n",
        "\n",
        "# Classification Report\n",
        "class_report = classification_report(y_test, y_pred)\n",
        "print(\"\\nClassification Report:\\n\", class_report)\n"
      ]
    },
    {
      "cell_type": "code",
      "execution_count": 40,
      "metadata": {},
      "outputs": [
        {
          "data": {
            "image/png": "[encoded data removed]",
            "text/plain": [
              "<Figure size 640x480 with 1 Axes>"
            ]
          },
          "metadata": {},
          "output_type": "display_data"
        }
      ],
      "source": [
        "from sklearn.metrics import roc_curve, auc\n",
        "import matplotlib.pyplot as plt\n",
        "\n",
        "# Calculate False Positive Rate and True Positive Rate\n",
        "fpr, tpr, thresholds = roc_curve(y_test, y_pred)\n",
        "roc_auc = auc(fpr, tpr)\n",
        "\n",
        "# Plotting the ROC Curve\n",
        "plt.figure()\n",
        "plt.plot(fpr, tpr, color='darkorange', lw=2, label='ROC curve (area = %0.2f)' % roc_auc)\n",
        "plt.plot([0, 1], [0, 1], color='navy', lw=2, linestyle='--')\n",
        "plt.xlim([0.0, 1.0])\n",
        "plt.ylim([0.0, 1.05])\n",
        "plt.xlabel('False Positive Rate')\n",
        "plt.ylabel('True Positive Rate')\n",
        "plt.title('Receiver Operating Characteristic')\n",
        "plt.legend(loc=\"lower right\")\n",
        "plt.show()\n"
      ]
    },
    {
      "cell_type": "code",
      "execution_count": 41,
      "metadata": {},
      "outputs": [
        {
          "name": "stdout",
          "output_type": "stream",
          "text": [
            "Feature ranking:\n",
            "1. feature 0 (0.586150)\n",
            "2. feature 7 (0.160419)\n",
            "3. feature 12 (0.079062)\n",
            "4. feature 10 (0.076184)\n",
            "5. feature 14 (0.068187)\n",
            "6. feature 13 (0.027279)\n",
            "7. feature 3 (0.002718)\n",
            "8. feature 11 (0.000000)\n",
            "9. feature 9 (0.000000)\n",
            "10. feature 8 (0.000000)\n",
            "11. feature 6 (0.000000)\n",
            "12. feature 5 (0.000000)\n",
            "13. feature 4 (0.000000)\n",
            "14. feature 2 (0.000000)\n",
            "15. feature 1 (0.000000)\n"
          ]
        }
      ],
      "source": [
        "# Feature importance\n",
        "importances = cart.feature_importances_\n",
        "indices = np.argsort(importances)[::-1]\n",
        "\n",
        "# Print the feature ranking\n",
        "print(\"Feature ranking:\")\n",
        "for f in range(X_train_categ_oh.shape[1]):\n",
        "    print(\"%d. feature %d (%f)\" % (f + 1, indices[f], importances[indices[f]]))\n"
      ]
    },
    {
      "cell_type": "code",
      "execution_count": 42,
      "metadata": {},
      "outputs": [
        {
          "data": {
            "image/png": "[encoded data removed]",
            "text/plain": [
              "<Figure size 640x480 with 1 Axes>"
            ]
          },
          "metadata": {},
          "output_type": "display_data"
        }
      ],
      "source": [
        "# Residuals from Linear Regression\n",
        "residuals = y_test - y_hat\n",
        "\n",
        "# Scatter plot of residuals\n",
        "plt.scatter(y_hat, residuals)\n",
        "plt.title('Residuals vs. Predicted Values')\n",
        "plt.xlabel('Predicted Values')\n",
        "plt.ylabel('Residuals')\n",
        "plt.axhline(y=0, color='red', linestyle='--')\n",
        "plt.show()\n"
      ]
    },
    {
      "cell_type": "code",
      "execution_count": 43,
      "metadata": {},
      "outputs": [
        {
          "name": "stdout",
          "output_type": "stream",
          "text": [
            "Average Cross-Validation Score:  0.9513091308472467\n"
          ]
        }
      ],
      "source": [
        "from sklearn.model_selection import cross_val_score\n",
        "\n",
        "# Cross-validation scores for your decision tree model\n",
        "cv_scores = cross_val_score(cart, X_train_categ_oh, y_train, cv=5)\n",
        "\n",
        "print(\"Average Cross-Validation Score: \", np.mean(cv_scores))\n"
      ]
    }
  ],
  "metadata": {
    "colab": {
      "provenance": []
    },
    "kernelspec": {
      "display_name": "Python 3",
      "name": "python3"
    },
    "language_info": {
      "codemirror_mode": {
        "name": "ipython",
        "version": 3
      },
      "file_extension": ".py",
      "mimetype": "text/x-python",
      "name": "python",
      "nbconvert_exporter": "python",
      "pygments_lexer": "ipython3",
      "version": "3.11.5"
    }
  },
  "nbformat": 4,
  "nbformat_minor": 0
}
