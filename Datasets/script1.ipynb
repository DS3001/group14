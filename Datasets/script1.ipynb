{
 "cells": [
  {
   "cell_type": "code",
   "execution_count": 5,
   "metadata": {},
   "outputs": [
    {
     "name": "stdout",
     "output_type": "stream",
     "text": [
      "GSS7218_R3.sav file has been converted to GSS7218_R3.csv.\n"
     ]
    }
   ],
   "source": [
    "import pyreadstat\n",
    "\n",
    "# Read the SAV file into a Pandas DataFrame\n",
    "data, meta = pyreadstat.read_sav('GSS7218_R3.sav')\n",
    "\n",
    "# Save the DataFrame to a CSV file\n",
    "data.to_csv('GSS7218_R3.csv', index=False)\n",
    "\n",
    "print(\"GSS7218_R3.sav file has been converted to GSS7218_R3.csv.\")\n"
   ]
  }
 ],
 "metadata": {
  "kernelspec": {
   "display_name": "Python 3",
   "language": "python",
   "name": "python3"
  },
  "language_info": {
   "codemirror_mode": {
    "name": "ipython",
    "version": 3
   },
   "file_extension": ".py",
   "mimetype": "text/x-python",
   "name": "python",
   "nbconvert_exporter": "python",
   "pygments_lexer": "ipython3",
   "version": "3.11.5"
  },
  "orig_nbformat": 4
 },
 "nbformat": 4,
 "nbformat_minor": 2
}
